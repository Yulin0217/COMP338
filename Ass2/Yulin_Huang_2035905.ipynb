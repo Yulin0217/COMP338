{
 "cells": [
  {
   "cell_type": "markdown",
   "source": [
    "## COMP338 ASS2\n",
    "\n"
   ],
   "metadata": {
    "collapsed": false
   },
   "id": "9fb7efbbf859440"
  },
  {
   "cell_type": "markdown",
   "source": [
    "### Import package"
   ],
   "metadata": {
    "collapsed": false
   },
   "id": "7479a1461a70be73"
  },
  {
   "cell_type": "code",
   "execution_count": 1,
   "outputs": [],
   "source": [
    "from matplotlib import pyplot as plt\n",
    "from torch.utils.data import DataLoader\n",
    "from torchvision import datasets, transforms\n",
    "from torch.optim import Adam\n",
    "from tqdm import tqdm\n",
    "import torch\n",
    "import torch.nn as nn\n",
    "import torch.nn.functional as F\n",
    "from torch.utils.tensorboard import SummaryWriter\n"
   ],
   "metadata": {
    "collapsed": false,
    "ExecuteTime": {
     "end_time": "2023-12-13T03:04:11.298658200Z",
     "start_time": "2023-12-13T03:04:06.784083200Z"
    }
   },
   "id": "91d143573b9e0689"
  },
  {
   "cell_type": "markdown",
   "source": [
    "### Test Cuda Cores and set device"
   ],
   "metadata": {
    "collapsed": false
   },
   "id": "81907b6560b36985"
  },
  {
   "cell_type": "code",
   "execution_count": 2,
   "outputs": [
    {
     "name": "stdout",
     "output_type": "stream",
     "text": [
      "Device using:  cuda\n"
     ]
    }
   ],
   "source": [
    "device = torch.device(\"cuda\" if torch.cuda.is_available() else \"cpu\")\n",
    "print('Device using: ', device)"
   ],
   "metadata": {
    "collapsed": false,
    "ExecuteTime": {
     "end_time": "2023-12-13T03:04:11.353253100Z",
     "start_time": "2023-12-13T03:04:11.300659100Z"
    }
   },
   "id": "e9cc493a8c44768a"
  },
  {
   "cell_type": "markdown",
   "source": [
    "## MiniVGGNet"
   ],
   "metadata": {
    "collapsed": false
   },
   "id": "e7dfe9365da5d9ba"
  },
  {
   "cell_type": "code",
   "execution_count": 3,
   "outputs": [],
   "source": [
    "class MiniVGGNet(nn.Module):\n",
    "    def __init__(self, inputShape, classes):\n",
    "        super(MiniVGGNet, self).__init__()\n",
    "\n",
    "        # Initialize the channel dimension, this will be used for batch normalization.\n",
    "        chanDim = 1 if inputShape[0] == 1 else 3\n",
    "\n",
    "        # First set of CONV => RELU => CONV => RELU => POOL layers\n",
    "        # This set of layers has 32 filters and uses 'same' padding to preserve spatial dimensions.\n",
    "        self.conv1a = nn.Conv2d(inputShape[0], 32, (3, 3), padding=\"same\")\n",
    "        self.bn1a = nn.BatchNorm2d(32)\n",
    "        self.conv1b = nn.Conv2d(32, 32, (3, 3), padding=\"same\")\n",
    "        self.bn1b = nn.BatchNorm2d(32)\n",
    "        self.pool1 = nn.MaxPool2d(kernel_size=2)  # Pooling to reduce spatial dimensions\n",
    "        self.dropout1 = nn.Dropout(0.25)  # Dropout for regularization\n",
    "\n",
    "        # Second set of CONV => RELU => CONV => RELU => POOL layers\n",
    "        # Increasing the number of filters to 64 for deeper feature extraction.\n",
    "        self.conv2a = nn.Conv2d(32, 64, (3, 3), padding=\"same\")\n",
    "        self.bn2a = nn.BatchNorm2d(64)\n",
    "        self.conv2b = nn.Conv2d(64, 64, (3, 3), padding=\"same\")\n",
    "        self.bn2b = nn.BatchNorm2d(64)\n",
    "        self.pool2 = nn.MaxPool2d(kernel_size=2)  # Further reducing dimensions\n",
    "        self.dropout2 = nn.Dropout(0.25)  # Additional dropout\n",
    "\n",
    "        # First (and only) set of FC => RELU layers\n",
    "        # The feature map is flattened and fed into fully connected layers.\n",
    "        self.fc1 = nn.Linear(64 * (inputShape[1] // 4) * (inputShape[2] // 4), 512)\n",
    "        self.bn_fc1 = nn.BatchNorm1d(512)\n",
    "        self.dropout_fc1 = nn.Dropout(0.5)  # Dropout to prevent overfitting\n",
    "\n",
    "        # Final softmax classifier that outputs probability distributions over the classes.\n",
    "        self.fc2 = nn.Linear(512, classes)\n",
    "\n",
    "    def forward(self, x):\n",
    "        # Applying the first set of layers followed by activation, batch normalization, and pooling\n",
    "        x = F.relu(self.bn1a(self.conv1a(x)))\n",
    "        x = F.relu(self.bn1b(self.conv1b(x)))\n",
    "        x = self.pool1(x)\n",
    "        x = self.dropout1(x)\n",
    "\n",
    "        # Applying the second set of layers with the same pattern as above\n",
    "        x = F.relu(self.bn2a(self.conv2a(x)))\n",
    "        x = F.relu(self.bn2b(self.conv2b(x)))\n",
    "        x = self.pool2(x)\n",
    "        x = self.dropout2(x)\n",
    "\n",
    "        # Flatten the convolutional layer's output to feed it into the fully connected layers\n",
    "        x = x.view(x.size(0), -1)\n",
    "        x = F.relu(self.bn_fc1(self.fc1(x)))\n",
    "        x = self.dropout_fc1(x)\n",
    "\n",
    "        # Output layer with a softmax to obtain probabilities for each class\n",
    "        x = self.fc2(x)\n",
    "        return F.log_softmax(x, dim=1)\n"
   ],
   "metadata": {
    "collapsed": false,
    "ExecuteTime": {
     "end_time": "2023-12-13T03:04:11.354314600Z",
     "start_time": "2023-12-13T03:04:11.336231900Z"
    }
   },
   "id": "6159634697bc73e8"
  },
  {
   "cell_type": "markdown",
   "source": [
    "### Function Used for Data Loading, Training and Testing"
   ],
   "metadata": {
    "collapsed": false
   },
   "id": "6c98c4b234257ace"
  },
  {
   "cell_type": "code",
   "execution_count": 14,
   "outputs": [],
   "source": [
    "def calculate_loss_and_accuracy(model_f, data_loader):\n",
    "    model_f.eval()\n",
    "    loss = 0\n",
    "    correct = 0\n",
    "    total = 0\n",
    "    with torch.no_grad():\n",
    "        for data, target in data_loader:\n",
    "            data, target = data.to(device), target.to(device)\n",
    "            output = model_f(data)\n",
    "            loss += criterion(output, target).item()\n",
    "            pred = output.argmax(dim=1, keepdim=True)\n",
    "            correct += pred.eq(target.view_as(pred)).sum().item()\n",
    "            total += target.size(0)\n",
    "\n",
    "    loss /= len(data_loader)\n",
    "    accuracy = 100. * correct / total\n",
    "    return loss, accuracy\n",
    "\n",
    "\n",
    "def load_data_and_transform(train_batch_size, test_batch_size):\n",
    "    transform = transforms.Compose([\n",
    "        transforms.ToTensor(),\n",
    "        transforms.Normalize((0.5,), (0.5,))\n",
    "    ])\n",
    "\n",
    "    train_dataset = datasets.FashionMNIST(root='./data', train=True, download=True, transform=transform)\n",
    "    train_loader = DataLoader(train_dataset, batch_size=train_batch_size, shuffle=True)\n",
    "\n",
    "    test_dataset = datasets.FashionMNIST(root='./data', train=False, download=True, transform=transform)\n",
    "    test_loader = DataLoader(test_dataset, batch_size=test_batch_size, shuffle=False)\n",
    "    return train_loader, test_loader\n",
    "\n",
    "\n",
    "def train_model(model_f, train_loader_f, test_loader_f, epochs_f):\n",
    "    for epoch in epochs_f:\n",
    "        model_f.train()  # Set the model to training mode\n",
    "        train_loss = 0  # Initialize the loss for this epoch\n",
    "\n",
    "        # Iterate over the training data\n",
    "        with tqdm(train_loader_f, unit=\"batch\") as tepoch:\n",
    "            for data, target in tepoch:\n",
    "                tepoch.set_description(f\"Epoch {epoch + 1}\")\n",
    "                # Move data to the appropriate device \n",
    "                data, target = data.to(device), target.to(device)\n",
    "                # Zero the gradients before the forward pass\n",
    "                optimizer.zero_grad()\n",
    "                # Forward pass: compute the output of the model\n",
    "                output = model_f(data)\n",
    "                # Compute the loss\n",
    "                loss = criterion(output, target)\n",
    "                # Backward pass: compute the gradients of the loss w.r.t. the model's parameters\n",
    "                loss.backward()\n",
    "                # Perform a single optimization step (parameter update)\n",
    "                optimizer.step()\n",
    "                # Accumulate the training loss\n",
    "                train_loss += loss.item()\n",
    "\n",
    "        # Calculate and record training loss and accuracy\n",
    "        train_loss, train_accuracy = calculate_loss_and_accuracy(model_f, train_loader_f)\n",
    "        train_losses.append(train_loss)\n",
    "        train_accuracies.append(train_accuracy)\n",
    "        print(f'End of Epoch {epoch + 1}, Training Loss: {train_loss:.4f}, Training Accuracy: {train_accuracy:.2f}%')\n",
    "\n",
    "        # Record the training metrics to TensorBoard\n",
    "        writer.add_scalar('Training Loss', train_loss, epoch)\n",
    "        writer.add_scalar('Training Accuracy', train_accuracy, epoch)\n",
    "\n",
    "        # Calculate and record test loss and accuracy\n",
    "        test_loss, test_accuracy = calculate_loss_and_accuracy(model_f, test_loader_f)\n",
    "        test_losses.append(test_loss)\n",
    "        test_accuracies.append(test_accuracy)\n",
    "        print(f'End of Epoch {epoch + 1}, Test Loss: {test_loss:.4f}, Test Accuracy: {test_accuracy:.2f}%')\n",
    "\n",
    "        # Record the test metrics to TensorBoard\n",
    "        writer.add_scalar('Test Loss', test_loss, epoch)\n",
    "        writer.add_scalar('Test Accuracy', test_accuracy, epoch)\n",
    "    return model_f\n",
    "\n",
    "\n",
    "def test_model(model_f, test_loader_f):\n",
    "    model_f.eval()  # Switch model to evaluation mode\n",
    "    test_loss = 0\n",
    "    correct = 0\n",
    "    with torch.no_grad():  # Disable gradient calculation\n",
    "        for data, target in tqdm(test_loader_f, desc=\"Test\"):\n",
    "            data, target = data.to(device), target.to(device)\n",
    "            output = model_f(data)\n",
    "\n",
    "            test_loss += criterion(output, target).item()\n",
    "            pred = output.argmax(dim=1, keepdim=True)\n",
    "            correct += pred.eq(target.view_as(pred)).sum().item()\n",
    "\n",
    "    test_loss /= len(test_loader_f.dataset)\n",
    "    # Print test results\n",
    "    print(\n",
    "        f'Test set: Average loss: {test_loss:.4f}, Accuracy: {correct}/{len(test_loader_f.dataset)} ({100. * correct / len(test_loader_f.dataset):.2f}%)')\n",
    "\n",
    "\n",
    "def polt_for_train_test(epochs_f, train_losses_f, train_accuracies_f, test_losses_f, test_accuracies_f):\n",
    "    # Plot Training and Test Accuracy\n",
    "    plt.figure(figsize=(10, 5))\n",
    "    plt.plot(epochs_f, train_accuracies_f, 'bo-', label='Train Accuracy')\n",
    "    plt.plot(epochs_f, test_accuracies_f, 'ro-', label='Test Accuracy')\n",
    "    plt.title('Training and Test Accuracy(%)')\n",
    "    plt.xlabel('Epochs')\n",
    "    plt.ylabel('Accuracy')\n",
    "    plt.ylim(0, 100)  # Ensure y-axis starts at 0 and ends at 100\n",
    "    plt.legend()  # Include a legend to differentiate between train and test lines\n",
    "    plt.show()\n",
    "\n",
    "    # Plot Training and Test Loss\n",
    "    plt.figure(figsize=(10, 5))\n",
    "    plt.plot(epochs_f, train_losses_f, 'bo-', label='Train Loss')\n",
    "    plt.plot(epochs_f, test_losses_f, 'ro-', label='Test Loss')\n",
    "    plt.title('Training and Test Loss')\n",
    "    plt.xlabel('Epochs')\n",
    "    plt.ylabel('Loss')\n",
    "    plt.ylim(0, 5)  # Ensure y-axis starts at 0 and ends at 5\n",
    "    plt.legend()  # Include a legend for clarity\n",
    "    plt.show()\n"
   ],
   "metadata": {
    "collapsed": false,
    "ExecuteTime": {
     "end_time": "2023-12-13T03:25:27.378596800Z",
     "start_time": "2023-12-13T03:25:27.371566Z"
    }
   },
   "id": "70ca5f99e50afa60"
  },
  {
   "cell_type": "markdown",
   "source": [
    "### Instantiate the model and define the loss function and optimizer"
   ],
   "metadata": {
    "collapsed": false
   },
   "id": "d95408501ba7ce94"
  },
  {
   "cell_type": "code",
   "execution_count": 5,
   "outputs": [],
   "source": [
    "# Instantiate the model\n",
    "input_shape = (1, 28, 28)  # The image dimensions for the Fashion MNIST dataset\n",
    "num_classes = 10  # The number of classes in the Fashion MNIST dataset\n",
    "model = MiniVGGNet(input_shape, num_classes).to(device)  # Move the model to the appropriate device (CPU or GPU)\n",
    "\n",
    "# Define the loss function and optimizer\n",
    "criterion = nn.CrossEntropyLoss()  # CrossEntropyLoss is commonly used for classification tasks\n",
    "optimizer = Adam(model.parameters(), lr=0.001)  # Adam optimizer with a learning rate of 0.001"
   ],
   "metadata": {
    "collapsed": false,
    "ExecuteTime": {
     "end_time": "2023-12-13T03:04:11.472163400Z",
     "start_time": "2023-12-13T03:04:11.361838700Z"
    }
   },
   "id": "d29aa15d0cf07bcb"
  },
  {
   "cell_type": "markdown",
   "source": [
    "### Train the model"
   ],
   "metadata": {
    "collapsed": false
   },
   "id": "a4061335eb89251a"
  },
  {
   "cell_type": "code",
   "execution_count": 6,
   "outputs": [
    {
     "name": "stderr",
     "output_type": "stream",
     "text": [
      "Epoch 1: 100%|██████████| 118/118 [00:05<00:00, 22.46batch/s]\n"
     ]
    },
    {
     "name": "stdout",
     "output_type": "stream",
     "text": [
      "End of Epoch 1, Training Loss: 0.2555, Training Accuracy: 90.77%\n",
      "End of Epoch 1, Test Loss: 0.2865, Test Accuracy: 89.55%\n"
     ]
    },
    {
     "name": "stderr",
     "output_type": "stream",
     "text": [
      "Epoch 2: 100%|██████████| 118/118 [00:05<00:00, 19.82batch/s]\n"
     ]
    },
    {
     "name": "stdout",
     "output_type": "stream",
     "text": [
      "End of Epoch 2, Training Loss: 0.2130, Training Accuracy: 92.16%\n",
      "End of Epoch 2, Test Loss: 0.2491, Test Accuracy: 90.61%\n"
     ]
    },
    {
     "name": "stderr",
     "output_type": "stream",
     "text": [
      "Epoch 3: 100%|██████████| 118/118 [00:05<00:00, 19.79batch/s]\n"
     ]
    },
    {
     "name": "stdout",
     "output_type": "stream",
     "text": [
      "End of Epoch 3, Training Loss: 0.1836, Training Accuracy: 93.20%\n",
      "End of Epoch 3, Test Loss: 0.2249, Test Accuracy: 91.88%\n"
     ]
    },
    {
     "name": "stderr",
     "output_type": "stream",
     "text": [
      "Epoch 4: 100%|██████████| 118/118 [00:06<00:00, 19.37batch/s]\n"
     ]
    },
    {
     "name": "stdout",
     "output_type": "stream",
     "text": [
      "End of Epoch 4, Training Loss: 0.1703, Training Accuracy: 93.72%\n",
      "End of Epoch 4, Test Loss: 0.2210, Test Accuracy: 91.89%\n"
     ]
    },
    {
     "name": "stderr",
     "output_type": "stream",
     "text": [
      "Epoch 5: 100%|██████████| 118/118 [00:05<00:00, 19.92batch/s]\n"
     ]
    },
    {
     "name": "stdout",
     "output_type": "stream",
     "text": [
      "End of Epoch 5, Training Loss: 0.1502, Training Accuracy: 94.56%\n",
      "End of Epoch 5, Test Loss: 0.2063, Test Accuracy: 92.46%\n"
     ]
    },
    {
     "name": "stderr",
     "output_type": "stream",
     "text": [
      "Epoch 6: 100%|██████████| 118/118 [00:05<00:00, 19.68batch/s]\n"
     ]
    },
    {
     "name": "stdout",
     "output_type": "stream",
     "text": [
      "End of Epoch 6, Training Loss: 0.1407, Training Accuracy: 94.76%\n",
      "End of Epoch 6, Test Loss: 0.2023, Test Accuracy: 92.59%\n"
     ]
    },
    {
     "name": "stderr",
     "output_type": "stream",
     "text": [
      "Epoch 7: 100%|██████████| 118/118 [00:05<00:00, 19.82batch/s]\n"
     ]
    },
    {
     "name": "stdout",
     "output_type": "stream",
     "text": [
      "End of Epoch 7, Training Loss: 0.1307, Training Accuracy: 95.17%\n",
      "End of Epoch 7, Test Loss: 0.1996, Test Accuracy: 92.87%\n"
     ]
    },
    {
     "name": "stderr",
     "output_type": "stream",
     "text": [
      "Epoch 8: 100%|██████████| 118/118 [00:05<00:00, 19.92batch/s]\n"
     ]
    },
    {
     "name": "stdout",
     "output_type": "stream",
     "text": [
      "End of Epoch 8, Training Loss: 0.1154, Training Accuracy: 95.86%\n",
      "End of Epoch 8, Test Loss: 0.1880, Test Accuracy: 93.20%\n"
     ]
    },
    {
     "name": "stderr",
     "output_type": "stream",
     "text": [
      "Epoch 9: 100%|██████████| 118/118 [00:06<00:00, 19.50batch/s]\n"
     ]
    },
    {
     "name": "stdout",
     "output_type": "stream",
     "text": [
      "End of Epoch 9, Training Loss: 0.1083, Training Accuracy: 96.13%\n",
      "End of Epoch 9, Test Loss: 0.1924, Test Accuracy: 93.30%\n"
     ]
    },
    {
     "name": "stderr",
     "output_type": "stream",
     "text": [
      "Epoch 10: 100%|██████████| 118/118 [00:05<00:00, 19.85batch/s]\n"
     ]
    },
    {
     "name": "stdout",
     "output_type": "stream",
     "text": [
      "End of Epoch 10, Training Loss: 0.1063, Training Accuracy: 96.22%\n",
      "End of Epoch 10, Test Loss: 0.1910, Test Accuracy: 93.37%\n"
     ]
    },
    {
     "name": "stderr",
     "output_type": "stream",
     "text": [
      "Epoch 11: 100%|██████████| 118/118 [00:05<00:00, 19.89batch/s]\n"
     ]
    },
    {
     "name": "stdout",
     "output_type": "stream",
     "text": [
      "End of Epoch 11, Training Loss: 0.0992, Training Accuracy: 96.33%\n",
      "End of Epoch 11, Test Loss: 0.1941, Test Accuracy: 93.43%\n"
     ]
    },
    {
     "name": "stderr",
     "output_type": "stream",
     "text": [
      "Epoch 12: 100%|██████████| 118/118 [00:05<00:00, 19.82batch/s]\n"
     ]
    },
    {
     "name": "stdout",
     "output_type": "stream",
     "text": [
      "End of Epoch 12, Training Loss: 0.0850, Training Accuracy: 97.01%\n",
      "End of Epoch 12, Test Loss: 0.1821, Test Accuracy: 93.66%\n"
     ]
    },
    {
     "name": "stderr",
     "output_type": "stream",
     "text": [
      "Epoch 13: 100%|██████████| 118/118 [00:05<00:00, 19.93batch/s]\n"
     ]
    },
    {
     "name": "stdout",
     "output_type": "stream",
     "text": [
      "End of Epoch 13, Training Loss: 0.0851, Training Accuracy: 97.02%\n",
      "End of Epoch 13, Test Loss: 0.1857, Test Accuracy: 93.56%\n"
     ]
    },
    {
     "name": "stderr",
     "output_type": "stream",
     "text": [
      "Epoch 14: 100%|██████████| 118/118 [00:05<00:00, 19.87batch/s]\n"
     ]
    },
    {
     "name": "stdout",
     "output_type": "stream",
     "text": [
      "End of Epoch 14, Training Loss: 0.0764, Training Accuracy: 97.50%\n",
      "End of Epoch 14, Test Loss: 0.1767, Test Accuracy: 93.83%\n"
     ]
    },
    {
     "name": "stderr",
     "output_type": "stream",
     "text": [
      "Epoch 15: 100%|██████████| 118/118 [00:05<00:00, 19.74batch/s]\n"
     ]
    },
    {
     "name": "stdout",
     "output_type": "stream",
     "text": [
      "End of Epoch 15, Training Loss: 0.0746, Training Accuracy: 97.49%\n",
      "End of Epoch 15, Test Loss: 0.1868, Test Accuracy: 93.53%\n"
     ]
    },
    {
     "name": "stderr",
     "output_type": "stream",
     "text": [
      "Epoch 16: 100%|██████████| 118/118 [00:05<00:00, 19.78batch/s]\n"
     ]
    },
    {
     "name": "stdout",
     "output_type": "stream",
     "text": [
      "End of Epoch 16, Training Loss: 0.0655, Training Accuracy: 97.83%\n",
      "End of Epoch 16, Test Loss: 0.1808, Test Accuracy: 93.69%\n"
     ]
    },
    {
     "name": "stderr",
     "output_type": "stream",
     "text": [
      "Epoch 17: 100%|██████████| 118/118 [00:05<00:00, 19.88batch/s]\n"
     ]
    },
    {
     "name": "stdout",
     "output_type": "stream",
     "text": [
      "End of Epoch 17, Training Loss: 0.0672, Training Accuracy: 97.74%\n",
      "End of Epoch 17, Test Loss: 0.1867, Test Accuracy: 93.53%\n"
     ]
    },
    {
     "name": "stderr",
     "output_type": "stream",
     "text": [
      "Epoch 18: 100%|██████████| 118/118 [00:06<00:00, 19.57batch/s]\n"
     ]
    },
    {
     "name": "stdout",
     "output_type": "stream",
     "text": [
      "End of Epoch 18, Training Loss: 0.0544, Training Accuracy: 98.17%\n",
      "End of Epoch 18, Test Loss: 0.1818, Test Accuracy: 93.99%\n"
     ]
    },
    {
     "name": "stderr",
     "output_type": "stream",
     "text": [
      "Epoch 19: 100%|██████████| 118/118 [00:05<00:00, 19.84batch/s]\n"
     ]
    },
    {
     "name": "stdout",
     "output_type": "stream",
     "text": [
      "End of Epoch 19, Training Loss: 0.0531, Training Accuracy: 98.23%\n",
      "End of Epoch 19, Test Loss: 0.1854, Test Accuracy: 93.95%\n"
     ]
    },
    {
     "name": "stderr",
     "output_type": "stream",
     "text": [
      "Epoch 20: 100%|██████████| 118/118 [00:13<00:00,  8.84batch/s]\n"
     ]
    },
    {
     "name": "stdout",
     "output_type": "stream",
     "text": [
      "End of Epoch 20, Training Loss: 0.0493, Training Accuracy: 98.41%\n",
      "End of Epoch 20, Test Loss: 0.1883, Test Accuracy: 93.95%\n"
     ]
    },
    {
     "name": "stderr",
     "output_type": "stream",
     "text": [
      "Epoch 21: 100%|██████████| 118/118 [00:12<00:00,  9.53batch/s]\n"
     ]
    },
    {
     "name": "stdout",
     "output_type": "stream",
     "text": [
      "End of Epoch 21, Training Loss: 0.0472, Training Accuracy: 98.56%\n",
      "End of Epoch 21, Test Loss: 0.1860, Test Accuracy: 93.86%\n"
     ]
    },
    {
     "name": "stderr",
     "output_type": "stream",
     "text": [
      "Epoch 22: 100%|██████████| 118/118 [00:04<00:00, 23.72batch/s]\n"
     ]
    },
    {
     "name": "stdout",
     "output_type": "stream",
     "text": [
      "End of Epoch 22, Training Loss: 0.0379, Training Accuracy: 98.90%\n",
      "End of Epoch 22, Test Loss: 0.1833, Test Accuracy: 94.03%\n"
     ]
    },
    {
     "name": "stderr",
     "output_type": "stream",
     "text": [
      "Epoch 23: 100%|██████████| 118/118 [00:11<00:00, 10.02batch/s]\n"
     ]
    },
    {
     "name": "stdout",
     "output_type": "stream",
     "text": [
      "End of Epoch 23, Training Loss: 0.0376, Training Accuracy: 98.89%\n",
      "End of Epoch 23, Test Loss: 0.1905, Test Accuracy: 93.87%\n"
     ]
    },
    {
     "name": "stderr",
     "output_type": "stream",
     "text": [
      "Epoch 24: 100%|██████████| 118/118 [00:04<00:00, 24.02batch/s]\n"
     ]
    },
    {
     "name": "stdout",
     "output_type": "stream",
     "text": [
      "End of Epoch 24, Training Loss: 0.0338, Training Accuracy: 99.14%\n",
      "End of Epoch 24, Test Loss: 0.1782, Test Accuracy: 94.23%\n"
     ]
    },
    {
     "name": "stderr",
     "output_type": "stream",
     "text": [
      "Epoch 25: 100%|██████████| 118/118 [00:11<00:00,  9.94batch/s]\n"
     ]
    },
    {
     "name": "stdout",
     "output_type": "stream",
     "text": [
      "End of Epoch 25, Training Loss: 0.0297, Training Accuracy: 99.19%\n",
      "End of Epoch 25, Test Loss: 0.1855, Test Accuracy: 94.06%\n"
     ]
    },
    {
     "name": "stderr",
     "output_type": "stream",
     "text": [
      "Epoch 26: 100%|██████████| 118/118 [00:11<00:00, 10.08batch/s]\n"
     ]
    },
    {
     "name": "stdout",
     "output_type": "stream",
     "text": [
      "End of Epoch 26, Training Loss: 0.0293, Training Accuracy: 99.28%\n",
      "End of Epoch 26, Test Loss: 0.1856, Test Accuracy: 94.20%\n"
     ]
    },
    {
     "name": "stderr",
     "output_type": "stream",
     "text": [
      "Epoch 27: 100%|██████████| 118/118 [00:11<00:00,  9.97batch/s]\n"
     ]
    },
    {
     "name": "stdout",
     "output_type": "stream",
     "text": [
      "End of Epoch 27, Training Loss: 0.0271, Training Accuracy: 99.28%\n",
      "End of Epoch 27, Test Loss: 0.1968, Test Accuracy: 94.06%\n"
     ]
    },
    {
     "name": "stderr",
     "output_type": "stream",
     "text": [
      "Epoch 28: 100%|██████████| 118/118 [00:11<00:00,  9.98batch/s]\n"
     ]
    },
    {
     "name": "stdout",
     "output_type": "stream",
     "text": [
      "End of Epoch 28, Training Loss: 0.0245, Training Accuracy: 99.34%\n",
      "End of Epoch 28, Test Loss: 0.1917, Test Accuracy: 94.11%\n"
     ]
    },
    {
     "name": "stderr",
     "output_type": "stream",
     "text": [
      "Epoch 29: 100%|██████████| 118/118 [00:11<00:00, 10.05batch/s]\n"
     ]
    },
    {
     "name": "stdout",
     "output_type": "stream",
     "text": [
      "End of Epoch 29, Training Loss: 0.0239, Training Accuracy: 99.37%\n",
      "End of Epoch 29, Test Loss: 0.2016, Test Accuracy: 93.88%\n"
     ]
    },
    {
     "name": "stderr",
     "output_type": "stream",
     "text": [
      "Epoch 30: 100%|██████████| 118/118 [00:11<00:00,  9.98batch/s]\n"
     ]
    },
    {
     "name": "stdout",
     "output_type": "stream",
     "text": [
      "End of Epoch 30, Training Loss: 0.0224, Training Accuracy: 99.45%\n",
      "End of Epoch 30, Test Loss: 0.1933, Test Accuracy: 94.11%\n"
     ]
    }
   ],
   "source": [
    "# Start a writer to store train log\n",
    "writer = SummaryWriter('runs/fashion_mnist_experiment')\n",
    "\n",
    "# Initialize lists to store metrics\n",
    "train_accuracies = []  # List to store training accuracy per epoch\n",
    "test_accuracies = []  # List to store test accuracy per epoch\n",
    "train_losses = []  # List to store training loss per epoch\n",
    "test_losses = []  # List to store test loss per epoch\n",
    "\n",
    "# Set epochs\n",
    "epochs = range(0, 30)\n",
    "#Load data and set batch size\n",
    "train_loader, test_loader = load_data_and_transform(train_batch_size=512, test_batch_size=1000)\n",
    "model = train_model(model, train_loader, test_loader, epochs)\n",
    "\n",
    "# Create a dummy input tensor that matches the model's input dimensions\n",
    "dummy_input = torch.zeros(1, *input_shape).to(device)\n",
    "\n",
    "# Add the model graph to TensorBoard\n",
    "writer.add_graph(model, dummy_input)\n",
    "\n",
    "# Close the SummaryWriter\n",
    "writer.close()\n",
    "\n",
    "# Save the model to a file\n",
    "torch.save(model, 'model/MiniVGGNet2.pth')\n"
   ],
   "metadata": {
    "collapsed": false,
    "ExecuteTime": {
     "end_time": "2023-12-13T03:11:48.803327100Z",
     "start_time": "2023-12-13T03:04:11.472163400Z"
    }
   },
   "id": "bb708af02a4080fa"
  },
  {
   "cell_type": "markdown",
   "source": [
    "###  Test the model"
   ],
   "metadata": {
    "collapsed": false
   },
   "id": "e8265726b816448f"
  },
  {
   "cell_type": "code",
   "execution_count": 7,
   "outputs": [
    {
     "name": "stderr",
     "output_type": "stream",
     "text": [
      "Test: 100%|██████████| 10/10 [00:01<00:00,  5.44it/s]"
     ]
    },
    {
     "name": "stdout",
     "output_type": "stream",
     "text": [
      "Test set: Average loss: 0.0002, Accuracy: 9411/10000 (94.11%)\n"
     ]
    },
    {
     "name": "stderr",
     "output_type": "stream",
     "text": [
      "\n"
     ]
    }
   ],
   "source": [
    "# Load model from local\n",
    "# model = torch.load('model/MiniVGGNet.pth')\n",
    "\n",
    "# Evaluate the model\n",
    "test_model(model, test_loader)"
   ],
   "metadata": {
    "collapsed": false,
    "ExecuteTime": {
     "end_time": "2023-12-13T03:11:50.656190900Z",
     "start_time": "2023-12-13T03:11:48.805272400Z"
    }
   },
   "id": "e9d95bf6558e1afd"
  },
  {
   "cell_type": "markdown",
   "source": [
    "### Plot the accuracy and loss for training and testing"
   ],
   "metadata": {
    "collapsed": false
   },
   "id": "c74602f1964c5261"
  },
  {
   "cell_type": "code",
   "execution_count": 15,
   "outputs": [
    {
     "data": {
      "text/plain": "<Figure size 1000x500 with 1 Axes>",
      "image/png": "[encoded data removed]"
     },
     "metadata": {},
     "output_type": "display_data"
    },
    {
     "data": {
      "text/plain": "<Figure size 1000x500 with 1 Axes>",
      "image/png": "[encoded data removed]"
     },
     "metadata": {},
     "output_type": "display_data"
    }
   ],
   "source": [
    "polt_for_train_test(epochs, train_losses, train_accuracies, test_losses, test_accuracies)"
   ],
   "metadata": {
    "collapsed": false,
    "ExecuteTime": {
     "end_time": "2023-12-13T03:25:34.013524600Z",
     "start_time": "2023-12-13T03:25:33.822490700Z"
    }
   },
   "id": "d051aa93b9c6070a"
  },
  {
   "cell_type": "markdown",
   "source": [],
   "metadata": {
    "collapsed": false
   },
   "id": "cf1f81545e58f8f"
  },
  {
   "cell_type": "code",
   "execution_count": 9,
   "outputs": [],
   "source": [
    "# for name, param in model.named_parameters():\n",
    "#     print(f\"{name}: {param}\")\n"
   ],
   "metadata": {
    "collapsed": false,
    "ExecuteTime": {
     "end_time": "2023-12-13T03:11:51.126406900Z",
     "start_time": "2023-12-13T03:11:51.038955700Z"
    }
   },
   "id": "c2cd67b799fea65f"
  }
 ],
 "metadata": {
  "kernelspec": {
   "name": "ml",
   "language": "python",
   "display_name": "ML"
  },
  "language_info": {
   "codemirror_mode": {
    "name": "ipython",
    "version": 2
   },
   "file_extension": ".py",
   "mimetype": "text/x-python",
   "name": "python",
   "nbconvert_exporter": "python",
   "pygments_lexer": "ipython2",
   "version": "2.7.6"
  }
 },
 "nbformat": 4,
 "nbformat_minor": 5
}
