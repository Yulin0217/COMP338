{
 "cells": [
  {
   "cell_type": "markdown",
   "source": [
    "## COMP338 ASS2\n",
    "\n"
   ],
   "metadata": {
    "collapsed": false
   },
   "id": "9fb7efbbf859440"
  },
  {
   "cell_type": "markdown",
   "source": [
    "### Import package"
   ],
   "metadata": {
    "collapsed": false
   },
   "id": "7479a1461a70be73"
  },
  {
   "cell_type": "markdown",
   "source": [],
   "metadata": {
    "collapsed": false
   },
   "id": "8221cfaff0f55c17"
  },
  {
   "cell_type": "code",
   "execution_count": 1,
   "outputs": [],
   "source": [
    "from matplotlib import pyplot as plt\n",
    "from torch.utils.data import DataLoader\n",
    "from torchvision import datasets, transforms\n",
    "from torch.optim import Adam\n",
    "from tqdm import tqdm\n",
    "import torch\n",
    "import torch.nn as nn\n",
    "import torch.nn.functional as F\n",
    "from torch.utils.tensorboard import SummaryWriter\n",
    "from torchsummary import summary\n",
    "from sklearn.metrics import classification_report\n",
    "import numpy as np\n",
    "\n"
   ],
   "metadata": {
    "collapsed": false,
    "ExecuteTime": {
     "end_time": "2023-12-14T00:23:23.812808800Z",
     "start_time": "2023-12-14T00:23:18.720048Z"
    }
   },
   "id": "91d143573b9e0689"
  },
  {
   "cell_type": "markdown",
   "source": [
    "### Test Cuda Cores and set device"
   ],
   "metadata": {
    "collapsed": false
   },
   "id": "81907b6560b36985"
  },
  {
   "cell_type": "code",
   "execution_count": 2,
   "outputs": [
    {
     "name": "stdout",
     "output_type": "stream",
     "text": [
      "Device using:  cuda\n"
     ]
    }
   ],
   "source": [
    "device = torch.device(\"cuda\" if torch.cuda.is_available() else \"cpu\")\n",
    "print('Device using: ', device)"
   ],
   "metadata": {
    "collapsed": false,
    "ExecuteTime": {
     "end_time": "2023-12-14T00:23:23.859216500Z",
     "start_time": "2023-12-14T00:23:23.813809300Z"
    }
   },
   "id": "e9cc493a8c44768a"
  },
  {
   "cell_type": "markdown",
   "source": [
    "### MiniVGGNet with Dropout "
   ],
   "metadata": {
    "collapsed": false
   },
   "id": "e7dfe9365da5d9ba"
  },
  {
   "cell_type": "markdown",
   "source": [
    "Use resource from when build the function: https://pyimagesearch.com/2019/02/11/fashion-mnist-with-keras-and-deep-learning/\n",
    "                                           https://github.com/khanhnamle1994/fashion-mnist/blob/master/CNN-4Conv.ipynb\n",
    "                                           https://github.com/matvi/miniVGGNet\n"
   ],
   "metadata": {
    "collapsed": false
   },
   "id": "cb449b46ebd5e40f"
  },
  {
   "cell_type": "code",
   "execution_count": 3,
   "outputs": [],
   "source": [
    "class MiniVGGNet(nn.Module):\n",
    "    def __init__(self, inputShape, classes):\n",
    "        super(MiniVGGNet, self).__init__()\n",
    "\n",
    "        # Initialize the channel dimension, this will be used for batch normalization.\n",
    "        chanDim = 1 if inputShape[0] == 1 else 3\n",
    "\n",
    "        # First set of CONV => RELU => CONV => RELU => POOL layers\n",
    "        # This set of layers has 32 filters and uses 'same' padding to preserve spatial dimensions.\n",
    "        self.conv1a = nn.Conv2d(inputShape[0], 32, (3, 3), padding=\"same\")\n",
    "        self.bn1a = nn.BatchNorm2d(32)\n",
    "        self.conv1b = nn.Conv2d(32, 32, (3, 3), padding=\"same\")\n",
    "        self.bn1b = nn.BatchNorm2d(32)\n",
    "        self.pool1 = nn.MaxPool2d(kernel_size=2)  # Pooling to reduce spatial dimensions\n",
    "        self.dropout1 = nn.Dropout(0.25)  # Dropout for regularization\n",
    "\n",
    "        # Second set of CONV => RELU => CONV => RELU => POOL layers\n",
    "        # Increasing the number of filters to 64 for deeper feature extraction.\n",
    "        self.conv2a = nn.Conv2d(32, 64, (3, 3), padding=\"same\")\n",
    "        self.bn2a = nn.BatchNorm2d(64)\n",
    "        self.conv2b = nn.Conv2d(64, 64, (3, 3), padding=\"same\")\n",
    "        self.bn2b = nn.BatchNorm2d(64)\n",
    "        self.pool2 = nn.MaxPool2d(kernel_size=2)  # Further reducing dimensions\n",
    "        self.dropout2 = nn.Dropout(0.25)  # Additional dropout\n",
    "\n",
    "        # First (and only) set of FC => RELU layers\n",
    "        # The feature map is flattened and fed into fully connected layers.\n",
    "        self.fc1 = nn.Linear(64 * (inputShape[1] // 4) * (inputShape[2] // 4), 512)\n",
    "        self.bn_fc1 = nn.BatchNorm1d(512)\n",
    "        self.dropout_fc1 = nn.Dropout(0.5)  # Dropout to prevent overfitting\n",
    "\n",
    "        # Final softmax classifier that outputs probability distributions over the classes.\n",
    "        self.fc2 = nn.Linear(512, classes)\n",
    "\n",
    "    def forward(self, x):\n",
    "        # Applying the first set of layers followed by activation, batch normalization, and pooling\n",
    "        x = F.relu(self.bn1a(self.conv1a(x)))\n",
    "        x = F.relu(self.bn1b(self.conv1b(x)))\n",
    "        x = self.pool1(x)\n",
    "        x = self.dropout1(x)\n",
    "\n",
    "        # Applying the second set of layers with the same pattern as above\n",
    "        x = F.relu(self.bn2a(self.conv2a(x)))\n",
    "        x = F.relu(self.bn2b(self.conv2b(x)))\n",
    "        x = self.pool2(x)\n",
    "        x = self.dropout2(x)\n",
    "\n",
    "        # Flatten the convolutional layer's output to feed it into the fully connected layers\n",
    "        x = x.view(x.size(0), -1)\n",
    "        x = F.relu(self.bn_fc1(self.fc1(x)))\n",
    "        x = self.dropout_fc1(x)\n",
    "\n",
    "        # Output layer with a softmax to obtain probabilities for each class\n",
    "        x = self.fc2(x)\n",
    "        return F.log_softmax(x, dim=1)\n"
   ],
   "metadata": {
    "collapsed": false,
    "ExecuteTime": {
     "end_time": "2023-12-14T00:23:23.859216500Z",
     "start_time": "2023-12-14T00:23:23.850183100Z"
    }
   },
   "id": "6159634697bc73e8"
  },
  {
   "cell_type": "markdown",
   "source": [
    "### MiniVGGNet without Dropout "
   ],
   "metadata": {
    "collapsed": false
   },
   "id": "69a5058f82f77fa4"
  },
  {
   "cell_type": "code",
   "execution_count": 4,
   "outputs": [],
   "source": [
    "# class MiniVGGNet(nn.Module):\n",
    "#     def __init__(self, inputShape, classes):\n",
    "#         super(MiniVGGNet, self).__init__()\n",
    "# \n",
    "#         # Initialize the channel dimension for batch normalization\n",
    "#         chanDim = 1 if inputShape[0] == 1 else 3\n",
    "# \n",
    "#         # First set of CONV => RELU => CONV => RELU => POOL layers\n",
    "#         self.conv1a = nn.Conv2d(inputShape[0], 32, (3, 3), padding=\"same\")\n",
    "#         self.bn1a = nn.BatchNorm2d(32)\n",
    "#         self.conv1b = nn.Conv2d(32, 32, (3, 3), padding=\"same\")\n",
    "#         self.bn1b = nn.BatchNorm2d(32)\n",
    "#         self.pool1 = nn.MaxPool2d(kernel_size=2)  # Pooling to reduce spatial dimensions\n",
    "# \n",
    "#         # Second set of CONV => RELU => CONV => RELU => POOL layers\n",
    "#         self.conv2a = nn.Conv2d(32, 64, (3, 3), padding=\"same\")\n",
    "#         self.bn2a = nn.BatchNorm2d(64)\n",
    "#         self.conv2b = nn.Conv2d(64, 64, (3, 3), padding=\"same\")\n",
    "#         self.bn2b = nn.BatchNorm2d(64)\n",
    "#         self.pool2 = nn.MaxPool2d(kernel_size=2)  # Further reducing dimensions\n",
    "# \n",
    "#         # Fully connected layers\n",
    "#         self.fc1 = nn.Linear(64 * (inputShape[1] // 4) * (inputShape[2] // 4), 512)\n",
    "#         self.bn_fc1 = nn.BatchNorm1d(512)\n",
    "# \n",
    "#         # Final softmax classifier\n",
    "#         self.fc2 = nn.Linear(512, classes)\n",
    "# \n",
    "#     def forward(self, x):\n",
    "#         # Applying the first set of layers followed by activation, batch normalization, and pooling\n",
    "#         x = F.relu(self.bn1a(self.conv1a(x)))\n",
    "#         x = F.relu(self.bn1b(self.conv1b(x)))\n",
    "#         x = self.pool1(x)\n",
    "# \n",
    "#         # Applying the second set of layers\n",
    "#         x = F.relu(self.bn2a(self.conv2a(x)))\n",
    "#         x = F.relu(self.bn2b(self.conv2b(x)))\n",
    "#         x = self.pool2(x)\n",
    "# \n",
    "#         # Flatten the output and apply the fully connected layers\n",
    "#         x = x.view(x.size(0), -1)\n",
    "#         x = F.relu(self.bn_fc1(self.fc1(x)))\n",
    "# \n",
    "#         # Output layer with a softmax\n",
    "#         x = self.fc2(x)\n",
    "#         return F.log_softmax(x, dim=1)"
   ],
   "metadata": {
    "collapsed": false,
    "ExecuteTime": {
     "end_time": "2023-12-14T00:23:23.884293500Z",
     "start_time": "2023-12-14T00:23:23.861722700Z"
    }
   },
   "id": "a158b1b9981d8b76"
  },
  {
   "cell_type": "markdown",
   "source": [
    "### Function Used for Data Loading, Training and Testing"
   ],
   "metadata": {
    "collapsed": false
   },
   "id": "6c98c4b234257ace"
  },
  {
   "cell_type": "code",
   "execution_count": 5,
   "outputs": [],
   "source": [
    "def calculate_loss_and_accuracy(model_f, data_loader):\n",
    "    model_f.eval()\n",
    "    loss = 0\n",
    "    correct = 0\n",
    "    total = 0\n",
    "    with torch.no_grad():\n",
    "        for data, target in data_loader:\n",
    "            data, target = data.to(device), target.to(device)\n",
    "            output = model_f(data)\n",
    "            loss += criterion(output, target).item()\n",
    "            pred = output.argmax(dim=1, keepdim=True)\n",
    "            correct += pred.eq(target.view_as(pred)).sum().item()\n",
    "            total += target.size(0)\n",
    "\n",
    "    loss /= len(data_loader)\n",
    "    accuracy = 100. * correct / total\n",
    "    return loss, accuracy\n",
    "\n",
    "\n",
    "def load_data_and_transform(train_batch_size, test_batch_size):\n",
    "    transform = transforms.Compose([\n",
    "        transforms.ToTensor(),\n",
    "        transforms.Normalize((0.5,), (0.5,))\n",
    "    ])\n",
    "\n",
    "    train_dataset = datasets.FashionMNIST(root='./data', train=True, download=True, transform=transform)\n",
    "    train_loader = DataLoader(train_dataset, batch_size=train_batch_size, shuffle=True)\n",
    "\n",
    "    test_dataset = datasets.FashionMNIST(root='./data', train=False, download=True, transform=transform)\n",
    "    test_loader = DataLoader(test_dataset, batch_size=test_batch_size, shuffle=False)\n",
    "    return train_loader, test_loader\n",
    "\n",
    "\n",
    "def train_model(model_f, train_loader_f, test_loader_f, epochs_f):\n",
    "    for epoch in epochs_f:\n",
    "        model_f.train()  # Set the model to training mode\n",
    "        train_loss = 0  # Initialize the loss for this epoch\n",
    "\n",
    "        # Iterate over the training data\n",
    "        with tqdm(train_loader_f, unit=\"batch\") as tepoch:\n",
    "            for data, target in tepoch:\n",
    "                tepoch.set_description(f\"Epoch {epoch + 1}\")\n",
    "                # Move data to the appropriate device \n",
    "                data, target = data.to(device), target.to(device)\n",
    "                # Zero the gradients before the forward pass\n",
    "                optimizer.zero_grad()\n",
    "                # Forward pass: compute the output of the model\n",
    "                output = model_f(data)\n",
    "                # Compute the loss\n",
    "                loss = criterion(output, target)\n",
    "                # Backward pass: compute the gradients of the loss w.r.t. the model's parameters\n",
    "                loss.backward()\n",
    "                # Perform a single optimization step (parameter update)\n",
    "                optimizer.step()\n",
    "                # Accumulate the training loss\n",
    "                train_loss += loss.item()\n",
    "\n",
    "        # Calculate and record training loss and accuracy\n",
    "        train_loss, train_accuracy = calculate_loss_and_accuracy(model_f, train_loader_f)\n",
    "        train_losses.append(train_loss)\n",
    "        train_accuracies.append(train_accuracy)\n",
    "        print(f'End of Epoch {epoch + 1}, Training Loss: {train_loss:.4f}, Training Accuracy: {train_accuracy:.2f}%')\n",
    "\n",
    "        # Record the training metrics to TensorBoard\n",
    "        writer.add_scalar('Training Loss', train_loss, epoch)\n",
    "        writer.add_scalar('Training Accuracy', train_accuracy, epoch)\n",
    "\n",
    "        # Calculate and record test loss and accuracy\n",
    "        test_loss, test_accuracy = calculate_loss_and_accuracy(model_f, test_loader_f)\n",
    "        test_losses.append(test_loss)\n",
    "        test_accuracies.append(test_accuracy)\n",
    "        print(f'End of Epoch {epoch + 1}, Test Loss: {test_loss:.4f}, Test Accuracy: {test_accuracy:.2f}%')\n",
    "\n",
    "        # Record the test metrics to TensorBoard\n",
    "        writer.add_scalar('Test Loss', test_loss, epoch)\n",
    "        writer.add_scalar('Test Accuracy', test_accuracy, epoch)\n",
    "    return model_f\n",
    "\n",
    "\n",
    "def test_and_plot_incorrect(model_f, test_loader_f, num_classes, num_images=9):\n",
    "    model_f.eval()  # Switch model to evaluation mode\n",
    "    test_loss = 0\n",
    "    correct = 0\n",
    "    all_predictions = []\n",
    "    all_targets = []\n",
    "\n",
    "    with torch.no_grad():  # Disable gradient calculation\n",
    "        for data, target in tqdm(test_loader_f, desc=\"Test\"):\n",
    "            data, target = data.to(device), target.to(device)\n",
    "            output = model_f(data)\n",
    "\n",
    "            test_loss += criterion(output, target).item()\n",
    "            pred = output.argmax(dim=1, keepdim=True)\n",
    "            correct += pred.eq(target.view_as(pred)).sum().item()\n",
    "\n",
    "            all_predictions.extend(pred.view_as(target).cpu().numpy())\n",
    "            all_targets.extend(target.cpu().numpy())\n",
    "\n",
    "    test_loss /= len(test_loader_f.dataset)\n",
    "\n",
    "    # Print test results\n",
    "    print(\n",
    "        f'Test set: Average loss: {test_loss:.4f}, Accuracy: {correct}/{len(test_loader_f.dataset)} ({100. * correct / len(test_loader_f.dataset):.2f}%)')\n",
    "\n",
    "    # Generate and print the classification report\n",
    "    target_names = [\"Class {}\".format(i) for i in range(num_classes)]\n",
    "    print(classification_report(all_targets, all_predictions, target_names=target_names))\n",
    "\n",
    "    # Identify incorrect predictions\n",
    "    incorrect_indices = np.nonzero(np.array(all_predictions) != np.array(all_targets))[0]\n",
    "\n",
    "    # Plot incorrect predictions\n",
    "    if len(incorrect_indices) > 0:\n",
    "        plt.figure(figsize=(10, 10))\n",
    "        for i in range(min(num_images, len(incorrect_indices))):\n",
    "            idx = incorrect_indices[i]\n",
    "            plt.subplot(3, 3, i + 1)\n",
    "            plt.imshow(test_loader_f.dataset[idx][0].squeeze(), cmap='gray', interpolation='none')\n",
    "            plt.title(f\"Predicted: {all_predictions[idx]}, True: {all_targets[idx]}\")\n",
    "            plt.tight_layout()\n",
    "        plt.show()\n",
    "    else:\n",
    "        print(\"No incorrect predictions to display.\")\n",
    "\n",
    "\n",
    "\n",
    "def polt_for_train_test(epochs_f, train_losses_f, train_accuracies_f, test_losses_f, test_accuracies_f):\n",
    "    # Plot Training and Test Accuracy\n",
    "    plt.figure(figsize=(10, 5))\n",
    "    plt.plot(epochs_f, train_accuracies_f, 'bo-', label='Train Accuracy')\n",
    "    plt.plot(epochs_f, test_accuracies_f, 'ro-', label='Test Accuracy')\n",
    "    plt.title('Training and Test Accuracy(%)')\n",
    "    plt.xlabel('Epochs')\n",
    "    plt.ylabel('Accuracy')\n",
    "    plt.ylim(0, 100)  # Ensure y-axis starts at 0 and ends at 100\n",
    "    plt.legend()  # Include a legend to differentiate between train and test lines\n",
    "    plt.show()\n",
    "\n",
    "    # Plot Training and Test Loss\n",
    "    plt.figure(figsize=(10, 5))\n",
    "    plt.plot(epochs_f, train_losses_f, 'bo-', label='Train Loss')\n",
    "    plt.plot(epochs_f, test_losses_f, 'ro-', label='Test Loss')\n",
    "    plt.title('Training and Test Loss')\n",
    "    plt.xlabel('Epochs')\n",
    "    plt.ylabel('Loss')\n",
    "    plt.ylim(0, 5)  # Ensure y-axis starts at 0 and ends at 5\n",
    "    plt.legend()  # Include a legend for clarity\n",
    "    plt.show()\n"
   ],
   "metadata": {
    "collapsed": false,
    "ExecuteTime": {
     "end_time": "2023-12-14T00:23:23.890797300Z",
     "start_time": "2023-12-14T00:23:23.884293500Z"
    }
   },
   "id": "70ca5f99e50afa60"
  },
  {
   "cell_type": "markdown",
   "source": [
    "### Instantiate the model and define the loss function and optimizer"
   ],
   "metadata": {
    "collapsed": false
   },
   "id": "d95408501ba7ce94"
  },
  {
   "cell_type": "code",
   "execution_count": 6,
   "outputs": [],
   "source": [
    "# Instantiate the model\n",
    "input_shape = (1, 28, 28)  # The image dimensions for the Fashion MNIST dataset\n",
    "num_classes = 10  # The number of classes in the Fashion MNIST dataset\n",
    "model = MiniVGGNet(input_shape, num_classes).to(device)  # Move the model to the appropriate device (CPU or GPU)\n",
    "\n",
    "# Define the loss function and optimizer\n",
    "criterion = nn.CrossEntropyLoss()  # CrossEntropyLoss is commonly used for classification tasks\n",
    "optimizer = Adam(model.parameters(), lr=0.001)  # Adam optimizer with a learning rate of 0.001"
   ],
   "metadata": {
    "collapsed": false,
    "ExecuteTime": {
     "end_time": "2023-12-14T00:23:23.999901200Z",
     "start_time": "2023-12-14T00:23:23.891801800Z"
    }
   },
   "id": "d29aa15d0cf07bcb"
  },
  {
   "cell_type": "markdown",
   "source": [
    "### Train the model"
   ],
   "metadata": {
    "collapsed": false
   },
   "id": "a4061335eb89251a"
  },
  {
   "cell_type": "code",
   "execution_count": 7,
   "outputs": [
    {
     "name": "stderr",
     "output_type": "stream",
     "text": [
      "Epoch 1: 100%|██████████| 118/118 [00:05<00:00, 21.46batch/s]\n"
     ]
    },
    {
     "name": "stdout",
     "output_type": "stream",
     "text": [
      "End of Epoch 1, Training Loss: 0.2686, Training Accuracy: 90.14%\n",
      "End of Epoch 1, Test Loss: 0.3019, Test Accuracy: 89.47%\n"
     ]
    },
    {
     "name": "stderr",
     "output_type": "stream",
     "text": [
      "Epoch 2: 100%|██████████| 118/118 [00:06<00:00, 19.25batch/s]\n"
     ]
    },
    {
     "name": "stdout",
     "output_type": "stream",
     "text": [
      "End of Epoch 2, Training Loss: 0.2079, Training Accuracy: 92.45%\n",
      "End of Epoch 2, Test Loss: 0.2456, Test Accuracy: 91.34%\n"
     ]
    },
    {
     "name": "stderr",
     "output_type": "stream",
     "text": [
      "Epoch 3: 100%|██████████| 118/118 [00:05<00:00, 20.51batch/s]\n"
     ]
    },
    {
     "name": "stdout",
     "output_type": "stream",
     "text": [
      "End of Epoch 3, Training Loss: 0.2086, Training Accuracy: 92.28%\n",
      "End of Epoch 3, Test Loss: 0.2548, Test Accuracy: 90.65%\n"
     ]
    },
    {
     "name": "stderr",
     "output_type": "stream",
     "text": [
      "Epoch 4: 100%|██████████| 118/118 [00:05<00:00, 22.07batch/s]\n"
     ]
    },
    {
     "name": "stdout",
     "output_type": "stream",
     "text": [
      "End of Epoch 4, Training Loss: 0.1630, Training Accuracy: 93.99%\n",
      "End of Epoch 4, Test Loss: 0.2134, Test Accuracy: 92.22%\n"
     ]
    },
    {
     "name": "stderr",
     "output_type": "stream",
     "text": [
      "Epoch 5: 100%|██████████| 118/118 [00:04<00:00, 23.75batch/s]\n"
     ]
    },
    {
     "name": "stdout",
     "output_type": "stream",
     "text": [
      "End of Epoch 5, Training Loss: 0.1654, Training Accuracy: 93.97%\n",
      "End of Epoch 5, Test Loss: 0.2241, Test Accuracy: 91.86%\n"
     ]
    },
    {
     "name": "stderr",
     "output_type": "stream",
     "text": [
      "Epoch 6: 100%|██████████| 118/118 [00:04<00:00, 24.09batch/s]\n"
     ]
    },
    {
     "name": "stdout",
     "output_type": "stream",
     "text": [
      "End of Epoch 6, Training Loss: 0.1347, Training Accuracy: 95.19%\n",
      "End of Epoch 6, Test Loss: 0.1954, Test Accuracy: 92.84%\n"
     ]
    },
    {
     "name": "stderr",
     "output_type": "stream",
     "text": [
      "Epoch 7: 100%|██████████| 118/118 [00:04<00:00, 24.10batch/s]\n"
     ]
    },
    {
     "name": "stdout",
     "output_type": "stream",
     "text": [
      "End of Epoch 7, Training Loss: 0.1358, Training Accuracy: 94.99%\n",
      "End of Epoch 7, Test Loss: 0.2039, Test Accuracy: 92.61%\n"
     ]
    },
    {
     "name": "stderr",
     "output_type": "stream",
     "text": [
      "Epoch 8: 100%|██████████| 118/118 [00:05<00:00, 23.13batch/s]\n"
     ]
    },
    {
     "name": "stdout",
     "output_type": "stream",
     "text": [
      "End of Epoch 8, Training Loss: 0.1193, Training Accuracy: 95.72%\n",
      "End of Epoch 8, Test Loss: 0.1901, Test Accuracy: 93.26%\n"
     ]
    },
    {
     "name": "stderr",
     "output_type": "stream",
     "text": [
      "Epoch 9: 100%|██████████| 118/118 [00:05<00:00, 22.51batch/s]\n"
     ]
    },
    {
     "name": "stdout",
     "output_type": "stream",
     "text": [
      "End of Epoch 9, Training Loss: 0.1098, Training Accuracy: 96.04%\n",
      "End of Epoch 9, Test Loss: 0.1889, Test Accuracy: 93.44%\n"
     ]
    },
    {
     "name": "stderr",
     "output_type": "stream",
     "text": [
      "Epoch 10: 100%|██████████| 118/118 [00:05<00:00, 23.13batch/s]\n"
     ]
    },
    {
     "name": "stdout",
     "output_type": "stream",
     "text": [
      "End of Epoch 10, Training Loss: 0.0987, Training Accuracy: 96.52%\n",
      "End of Epoch 10, Test Loss: 0.1806, Test Accuracy: 93.49%\n"
     ]
    },
    {
     "name": "stderr",
     "output_type": "stream",
     "text": [
      "Epoch 11: 100%|██████████| 118/118 [00:04<00:00, 24.19batch/s]\n"
     ]
    },
    {
     "name": "stdout",
     "output_type": "stream",
     "text": [
      "End of Epoch 11, Training Loss: 0.0946, Training Accuracy: 96.68%\n",
      "End of Epoch 11, Test Loss: 0.1866, Test Accuracy: 93.34%\n"
     ]
    },
    {
     "name": "stderr",
     "output_type": "stream",
     "text": [
      "Epoch 12: 100%|██████████| 118/118 [00:04<00:00, 24.57batch/s]\n"
     ]
    },
    {
     "name": "stdout",
     "output_type": "stream",
     "text": [
      "End of Epoch 12, Training Loss: 0.0925, Training Accuracy: 96.73%\n",
      "End of Epoch 12, Test Loss: 0.1883, Test Accuracy: 93.30%\n"
     ]
    },
    {
     "name": "stderr",
     "output_type": "stream",
     "text": [
      "Epoch 13: 100%|██████████| 118/118 [00:05<00:00, 23.11batch/s]\n"
     ]
    },
    {
     "name": "stdout",
     "output_type": "stream",
     "text": [
      "End of Epoch 13, Training Loss: 0.0925, Training Accuracy: 96.62%\n",
      "End of Epoch 13, Test Loss: 0.1922, Test Accuracy: 93.34%\n"
     ]
    },
    {
     "name": "stderr",
     "output_type": "stream",
     "text": [
      "Epoch 14: 100%|██████████| 118/118 [00:04<00:00, 23.72batch/s]\n"
     ]
    },
    {
     "name": "stdout",
     "output_type": "stream",
     "text": [
      "End of Epoch 14, Training Loss: 0.0774, Training Accuracy: 97.30%\n",
      "End of Epoch 14, Test Loss: 0.1858, Test Accuracy: 93.72%\n"
     ]
    },
    {
     "name": "stderr",
     "output_type": "stream",
     "text": [
      "Epoch 15: 100%|██████████| 118/118 [00:04<00:00, 24.32batch/s]\n"
     ]
    },
    {
     "name": "stdout",
     "output_type": "stream",
     "text": [
      "End of Epoch 15, Training Loss: 0.0746, Training Accuracy: 97.37%\n",
      "End of Epoch 15, Test Loss: 0.1859, Test Accuracy: 93.59%\n"
     ]
    },
    {
     "name": "stderr",
     "output_type": "stream",
     "text": [
      "Epoch 16: 100%|██████████| 118/118 [00:04<00:00, 23.89batch/s]\n"
     ]
    },
    {
     "name": "stdout",
     "output_type": "stream",
     "text": [
      "End of Epoch 16, Training Loss: 0.0619, Training Accuracy: 98.03%\n",
      "End of Epoch 16, Test Loss: 0.1750, Test Accuracy: 93.98%\n"
     ]
    },
    {
     "name": "stderr",
     "output_type": "stream",
     "text": [
      "Epoch 17: 100%|██████████| 118/118 [00:04<00:00, 24.25batch/s]\n"
     ]
    },
    {
     "name": "stdout",
     "output_type": "stream",
     "text": [
      "End of Epoch 17, Training Loss: 0.0606, Training Accuracy: 98.04%\n",
      "End of Epoch 17, Test Loss: 0.1792, Test Accuracy: 93.90%\n"
     ]
    },
    {
     "name": "stderr",
     "output_type": "stream",
     "text": [
      "Epoch 18: 100%|██████████| 118/118 [00:04<00:00, 24.32batch/s]\n"
     ]
    },
    {
     "name": "stdout",
     "output_type": "stream",
     "text": [
      "End of Epoch 18, Training Loss: 0.0525, Training Accuracy: 98.36%\n",
      "End of Epoch 18, Test Loss: 0.1784, Test Accuracy: 94.09%\n"
     ]
    },
    {
     "name": "stderr",
     "output_type": "stream",
     "text": [
      "Epoch 19: 100%|██████████| 118/118 [00:04<00:00, 24.17batch/s]\n"
     ]
    },
    {
     "name": "stdout",
     "output_type": "stream",
     "text": [
      "End of Epoch 19, Training Loss: 0.0492, Training Accuracy: 98.44%\n",
      "End of Epoch 19, Test Loss: 0.1818, Test Accuracy: 93.89%\n"
     ]
    },
    {
     "name": "stderr",
     "output_type": "stream",
     "text": [
      "Epoch 20: 100%|██████████| 118/118 [00:04<00:00, 24.33batch/s]\n"
     ]
    },
    {
     "name": "stdout",
     "output_type": "stream",
     "text": [
      "End of Epoch 20, Training Loss: 0.0480, Training Accuracy: 98.50%\n",
      "End of Epoch 20, Test Loss: 0.1811, Test Accuracy: 93.81%\n"
     ]
    },
    {
     "name": "stderr",
     "output_type": "stream",
     "text": [
      "Epoch 21: 100%|██████████| 118/118 [00:04<00:00, 24.17batch/s]\n"
     ]
    },
    {
     "name": "stdout",
     "output_type": "stream",
     "text": [
      "End of Epoch 21, Training Loss: 0.0442, Training Accuracy: 98.63%\n",
      "End of Epoch 21, Test Loss: 0.1823, Test Accuracy: 93.93%\n"
     ]
    },
    {
     "name": "stderr",
     "output_type": "stream",
     "text": [
      "Epoch 22: 100%|██████████| 118/118 [00:04<00:00, 24.40batch/s]\n"
     ]
    },
    {
     "name": "stdout",
     "output_type": "stream",
     "text": [
      "End of Epoch 22, Training Loss: 0.0387, Training Accuracy: 98.92%\n",
      "End of Epoch 22, Test Loss: 0.1797, Test Accuracy: 94.30%\n"
     ]
    },
    {
     "name": "stderr",
     "output_type": "stream",
     "text": [
      "Epoch 23: 100%|██████████| 118/118 [00:04<00:00, 24.45batch/s]\n"
     ]
    },
    {
     "name": "stdout",
     "output_type": "stream",
     "text": [
      "End of Epoch 23, Training Loss: 0.0329, Training Accuracy: 99.11%\n",
      "End of Epoch 23, Test Loss: 0.1768, Test Accuracy: 94.45%\n"
     ]
    },
    {
     "name": "stderr",
     "output_type": "stream",
     "text": [
      "Epoch 24: 100%|██████████| 118/118 [00:04<00:00, 24.24batch/s]\n"
     ]
    },
    {
     "name": "stdout",
     "output_type": "stream",
     "text": [
      "End of Epoch 24, Training Loss: 0.0361, Training Accuracy: 99.02%\n",
      "End of Epoch 24, Test Loss: 0.1830, Test Accuracy: 93.95%\n"
     ]
    },
    {
     "name": "stderr",
     "output_type": "stream",
     "text": [
      "Epoch 25: 100%|██████████| 118/118 [00:04<00:00, 24.20batch/s]\n"
     ]
    },
    {
     "name": "stdout",
     "output_type": "stream",
     "text": [
      "End of Epoch 25, Training Loss: 0.0304, Training Accuracy: 99.31%\n",
      "End of Epoch 25, Test Loss: 0.1793, Test Accuracy: 94.11%\n"
     ]
    },
    {
     "name": "stderr",
     "output_type": "stream",
     "text": [
      "Epoch 26: 100%|██████████| 118/118 [00:04<00:00, 23.91batch/s]\n"
     ]
    },
    {
     "name": "stdout",
     "output_type": "stream",
     "text": [
      "End of Epoch 26, Training Loss: 0.0292, Training Accuracy: 99.29%\n",
      "End of Epoch 26, Test Loss: 0.1850, Test Accuracy: 94.12%\n"
     ]
    },
    {
     "name": "stderr",
     "output_type": "stream",
     "text": [
      "Epoch 27: 100%|██████████| 118/118 [00:04<00:00, 24.39batch/s]\n"
     ]
    },
    {
     "name": "stdout",
     "output_type": "stream",
     "text": [
      "End of Epoch 27, Training Loss: 0.0285, Training Accuracy: 99.23%\n",
      "End of Epoch 27, Test Loss: 0.1913, Test Accuracy: 93.88%\n"
     ]
    },
    {
     "name": "stderr",
     "output_type": "stream",
     "text": [
      "Epoch 28: 100%|██████████| 118/118 [00:04<00:00, 24.25batch/s]\n"
     ]
    },
    {
     "name": "stdout",
     "output_type": "stream",
     "text": [
      "End of Epoch 28, Training Loss: 0.0261, Training Accuracy: 99.32%\n",
      "End of Epoch 28, Test Loss: 0.1898, Test Accuracy: 94.20%\n"
     ]
    },
    {
     "name": "stderr",
     "output_type": "stream",
     "text": [
      "Epoch 29: 100%|██████████| 118/118 [00:04<00:00, 24.35batch/s]\n"
     ]
    },
    {
     "name": "stdout",
     "output_type": "stream",
     "text": [
      "End of Epoch 29, Training Loss: 0.0221, Training Accuracy: 99.53%\n",
      "End of Epoch 29, Test Loss: 0.1884, Test Accuracy: 94.32%\n"
     ]
    },
    {
     "name": "stderr",
     "output_type": "stream",
     "text": [
      "Epoch 30: 100%|██████████| 118/118 [00:04<00:00, 23.91batch/s]\n"
     ]
    },
    {
     "name": "stdout",
     "output_type": "stream",
     "text": [
      "End of Epoch 30, Training Loss: 0.0197, Training Accuracy: 99.63%\n",
      "End of Epoch 30, Test Loss: 0.1917, Test Accuracy: 94.13%\n"
     ]
    }
   ],
   "source": [
    "# Start a writer to store train log\n",
    "writer = SummaryWriter('runs/fashion_mnist_experiment2')\n",
    "\n",
    "# Initialize lists to store metrics\n",
    "train_accuracies = []  # List to store training accuracy per epoch\n",
    "test_accuracies = []  # List to store test accuracy per epoch\n",
    "train_losses = []  # List to store training loss per epoch\n",
    "test_losses = []  # List to store test loss per epoch\n",
    "\n",
    "# Set epochs\n",
    "epochs = range(0, 30)\n",
    "#Load data and set batch size\n",
    "train_loader, test_loader = load_data_and_transform(train_batch_size=512, test_batch_size=1000)\n",
    "model = train_model(model, train_loader, test_loader, epochs)\n",
    "\n",
    "# Create a dummy input tensor that matches the model's input dimensions\n",
    "dummy_input = torch.zeros(1, *input_shape).to(device)\n",
    "\n",
    "# Add the model graph to TensorBoard\n",
    "writer.add_graph(model, dummy_input)\n",
    "\n",
    "# Close the SummaryWriter\n",
    "writer.close()\n",
    "\n",
    "# Save the model to a file\n",
    "torch.save(model, 'model/MiniVGGNet3.pth')\n"
   ],
   "metadata": {
    "collapsed": false,
    "ExecuteTime": {
     "end_time": "2023-12-14T00:28:23.435911300Z",
     "start_time": "2023-12-14T00:23:24.001403300Z"
    }
   },
   "id": "bb708af02a4080fa"
  },
  {
   "cell_type": "markdown",
   "source": [
    "###  Test the model and plot incorrect prediction"
   ],
   "metadata": {
    "collapsed": false
   },
   "id": "e8265726b816448f"
  },
  {
   "cell_type": "markdown",
   "source": [
    "Use resource from when build the function: https://github.com/khanhnamle1994/fashion-mnist/blob/master/CNN-4Conv.ipynb"
   ],
   "metadata": {
    "collapsed": false
   },
   "id": "579ec4df307a28d6"
  },
  {
   "cell_type": "code",
   "execution_count": 8,
   "outputs": [
    {
     "name": "stderr",
     "output_type": "stream",
     "text": [
      "Test: 100%|██████████| 10/10 [00:00<00:00, 14.16it/s]\n",
      "C:\\Users\\Yulin\\AppData\\Local\\Temp\\ipykernel_42496\\783933509.py:120: UserWarning: The figure layout has changed to tight\n",
      "  plt.tight_layout()\n"
     ]
    },
    {
     "name": "stdout",
     "output_type": "stream",
     "text": [
      "Test set: Average loss: 0.0002, Accuracy: 9411/10000 (94.11%)\n",
      "              precision    recall  f1-score   support\n",
      "\n",
      "     Class 0       0.90      0.88      0.89      1000\n",
      "     Class 1       1.00      0.99      0.99      1000\n",
      "     Class 2       0.93      0.90      0.91      1000\n",
      "     Class 3       0.94      0.95      0.95      1000\n",
      "     Class 4       0.88      0.95      0.92      1000\n",
      "     Class 5       0.99      0.98      0.99      1000\n",
      "     Class 6       0.84      0.80      0.82      1000\n",
      "     Class 7       0.96      0.99      0.97      1000\n",
      "     Class 8       0.99      0.99      0.99      1000\n",
      "     Class 9       0.98      0.97      0.98      1000\n",
      "\n",
      "    accuracy                           0.94     10000\n",
      "   macro avg       0.94      0.94      0.94     10000\n",
      "weighted avg       0.94      0.94      0.94     10000\n"
     ]
    },
    {
     "data": {
      "text/plain": "<Figure size 1000x1000 with 9 Axes>",
      "image/png": "[encoded data removed]"
     },
     "metadata": {},
     "output_type": "display_data"
    }
   ],
   "source": [
    "# Load model from local\n",
    "model = torch.load('model/MiniVGGNet.pth')\n",
    "\n",
    "# Evaluate the model\n",
    "test_and_plot_incorrect(model, test_loader,10)"
   ],
   "metadata": {
    "collapsed": false,
    "ExecuteTime": {
     "end_time": "2023-12-14T00:28:25.177208400Z",
     "start_time": "2023-12-14T00:28:23.436911800Z"
    }
   },
   "id": "e9d95bf6558e1afd"
  },
  {
   "cell_type": "markdown",
   "source": [
    "### Plot the accuracy and loss for training and testing"
   ],
   "metadata": {
    "collapsed": false
   },
   "id": "c74602f1964c5261"
  },
  {
   "cell_type": "code",
   "execution_count": 9,
   "outputs": [
    {
     "data": {
      "text/plain": "<Figure size 1000x500 with 1 Axes>",
      "image/png": "[encoded data removed]"
     },
     "metadata": {},
     "output_type": "display_data"
    },
    {
     "data": {
      "text/plain": "<Figure size 1000x500 with 1 Axes>",
      "image/png": "[encoded data removed]"
     },
     "metadata": {},
     "output_type": "display_data"
    }
   ],
   "source": [
    "polt_for_train_test(epochs, train_losses, train_accuracies, test_losses, test_accuracies)"
   ],
   "metadata": {
    "collapsed": false,
    "ExecuteTime": {
     "end_time": "2023-12-14T00:28:25.381549600Z",
     "start_time": "2023-12-14T00:28:25.176208200Z"
    }
   },
   "id": "d051aa93b9c6070a"
  },
  {
   "cell_type": "markdown",
   "source": [
    "### Model Summary"
   ],
   "metadata": {
    "collapsed": false
   },
   "id": "cf1f81545e58f8f"
  },
  {
   "cell_type": "code",
   "execution_count": 10,
   "outputs": [
    {
     "name": "stdout",
     "output_type": "stream",
     "text": [
      "----------------------------------------------------------------\n",
      "        Layer (type)               Output Shape         Param #\n",
      "================================================================\n",
      "            Conv2d-1           [-1, 32, 28, 28]             320\n",
      "       BatchNorm2d-2           [-1, 32, 28, 28]              64\n",
      "            Conv2d-3           [-1, 32, 28, 28]           9,248\n",
      "       BatchNorm2d-4           [-1, 32, 28, 28]              64\n",
      "         MaxPool2d-5           [-1, 32, 14, 14]               0\n",
      "           Dropout-6           [-1, 32, 14, 14]               0\n",
      "            Conv2d-7           [-1, 64, 14, 14]          18,496\n",
      "       BatchNorm2d-8           [-1, 64, 14, 14]             128\n",
      "            Conv2d-9           [-1, 64, 14, 14]          36,928\n",
      "      BatchNorm2d-10           [-1, 64, 14, 14]             128\n",
      "        MaxPool2d-11             [-1, 64, 7, 7]               0\n",
      "          Dropout-12             [-1, 64, 7, 7]               0\n",
      "           Linear-13                  [-1, 512]       1,606,144\n",
      "      BatchNorm1d-14                  [-1, 512]           1,024\n",
      "          Dropout-15                  [-1, 512]               0\n",
      "           Linear-16                   [-1, 10]           5,130\n",
      "================================================================\n",
      "Total params: 1,677,674\n",
      "Trainable params: 1,677,674\n",
      "Non-trainable params: 0\n",
      "----------------------------------------------------------------\n",
      "Input size (MB): 0.00\n",
      "Forward/backward pass size (MB): 1.30\n",
      "Params size (MB): 6.40\n",
      "Estimated Total Size (MB): 7.71\n",
      "----------------------------------------------------------------\n"
     ]
    }
   ],
   "source": [
    "summary(model, input_shape)"
   ],
   "metadata": {
    "collapsed": false,
    "ExecuteTime": {
     "end_time": "2023-12-14T00:28:25.426240200Z",
     "start_time": "2023-12-14T00:28:25.380549400Z"
    }
   },
   "id": "c2cd67b799fea65f"
  },
  {
   "cell_type": "code",
   "execution_count": 10,
   "outputs": [],
   "source": [],
   "metadata": {
    "collapsed": false,
    "ExecuteTime": {
     "end_time": "2023-12-14T00:28:25.427240700Z",
     "start_time": "2023-12-14T00:28:25.410226400Z"
    }
   },
   "id": "6b363479ab0c4077"
  },
  {
   "cell_type": "code",
   "execution_count": 10,
   "outputs": [],
   "source": [],
   "metadata": {
    "collapsed": false,
    "ExecuteTime": {
     "end_time": "2023-12-14T00:28:25.452758700Z",
     "start_time": "2023-12-14T00:28:25.425239500Z"
    }
   },
   "id": "b3838361d5301678"
  }
 ],
 "metadata": {
  "kernelspec": {
   "name": "ml",
   "language": "python",
   "display_name": "ML"
  },
  "language_info": {
   "codemirror_mode": {
    "name": "ipython",
    "version": 2
   },
   "file_extension": ".py",
   "mimetype": "text/x-python",
   "name": "python",
   "nbconvert_exporter": "python",
   "pygments_lexer": "ipython2",
   "version": "2.7.6"
  }
 },
 "nbformat": 4,
 "nbformat_minor": 5
}
